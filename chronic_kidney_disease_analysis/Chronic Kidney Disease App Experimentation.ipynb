{
 "cells": [
  {
   "cell_type": "markdown",
   "id": "cdb571c7",
   "metadata": {},
   "source": [
    "# Model Training"
   ]
  },
  {
   "cell_type": "code",
   "execution_count": 105,
   "id": "8a91ede5",
   "metadata": {},
   "outputs": [],
   "source": [
    "import pandas as pd\n",
    "import numpy as np\n",
    "\n",
    "from sklearn.model_selection import train_test_split, RepeatedStratifiedKFold, GridSearchCV\n",
    "from sklearn.linear_model import LogisticRegression\n",
    "from sklearn.svm import SVC\n",
    "from sklearn.tree import DecisionTreeClassifier\n",
    "from sklearn.ensemble import RandomForestClassifier\n",
    "from sklearn.metrics import precision_recall_curve, confusion_matrix, classification_report,accuracy_score, f1_score, auc\n",
    "from sklearn.inspection import permutation_importance\n",
    "\n",
    "from matplotlib import pyplot\n",
    "\n",
    "import warnings\n",
    "warnings.filterwarnings('ignore')"
   ]
  },
  {
   "cell_type": "code",
   "execution_count": 2,
   "id": "f59684d7",
   "metadata": {},
   "outputs": [],
   "source": [
    "data = pd.read_csv(\"./../data/input/ckd_processed.csv\")"
   ]
  },
  {
   "cell_type": "code",
   "execution_count": 3,
   "id": "4b84c3ab",
   "metadata": {},
   "outputs": [
    {
     "data": {
      "text/html": [
       "<div>\n",
       "<style scoped>\n",
       "    .dataframe tbody tr th:only-of-type {\n",
       "        vertical-align: middle;\n",
       "    }\n",
       "\n",
       "    .dataframe tbody tr th {\n",
       "        vertical-align: top;\n",
       "    }\n",
       "\n",
       "    .dataframe thead th {\n",
       "        text-align: right;\n",
       "    }\n",
       "</style>\n",
       "<table border=\"1\" class=\"dataframe\">\n",
       "  <thead>\n",
       "    <tr style=\"text-align: right;\">\n",
       "      <th></th>\n",
       "      <th>sg</th>\n",
       "      <th>al</th>\n",
       "      <th>rbc</th>\n",
       "      <th>hemo</th>\n",
       "      <th>pcv</th>\n",
       "      <th>class</th>\n",
       "    </tr>\n",
       "  </thead>\n",
       "  <tbody>\n",
       "    <tr>\n",
       "      <th>0</th>\n",
       "      <td>3.0</td>\n",
       "      <td>1.0</td>\n",
       "      <td>0.8</td>\n",
       "      <td>15.4</td>\n",
       "      <td>44.0</td>\n",
       "      <td>0.0</td>\n",
       "    </tr>\n",
       "    <tr>\n",
       "      <th>1</th>\n",
       "      <td>3.0</td>\n",
       "      <td>4.0</td>\n",
       "      <td>0.6</td>\n",
       "      <td>11.3</td>\n",
       "      <td>38.0</td>\n",
       "      <td>0.0</td>\n",
       "    </tr>\n",
       "    <tr>\n",
       "      <th>2</th>\n",
       "      <td>1.0</td>\n",
       "      <td>2.0</td>\n",
       "      <td>1.0</td>\n",
       "      <td>9.6</td>\n",
       "      <td>31.0</td>\n",
       "      <td>0.0</td>\n",
       "    </tr>\n",
       "    <tr>\n",
       "      <th>3</th>\n",
       "      <td>0.0</td>\n",
       "      <td>4.0</td>\n",
       "      <td>1.0</td>\n",
       "      <td>11.2</td>\n",
       "      <td>32.0</td>\n",
       "      <td>0.0</td>\n",
       "    </tr>\n",
       "    <tr>\n",
       "      <th>4</th>\n",
       "      <td>1.0</td>\n",
       "      <td>2.0</td>\n",
       "      <td>1.0</td>\n",
       "      <td>11.6</td>\n",
       "      <td>35.0</td>\n",
       "      <td>0.0</td>\n",
       "    </tr>\n",
       "  </tbody>\n",
       "</table>\n",
       "</div>"
      ],
      "text/plain": [
       "    sg   al  rbc  hemo   pcv  class\n",
       "0  3.0  1.0  0.8  15.4  44.0    0.0\n",
       "1  3.0  4.0  0.6  11.3  38.0    0.0\n",
       "2  1.0  2.0  1.0   9.6  31.0    0.0\n",
       "3  0.0  4.0  1.0  11.2  32.0    0.0\n",
       "4  1.0  2.0  1.0  11.6  35.0    0.0"
      ]
     },
     "execution_count": 3,
     "metadata": {},
     "output_type": "execute_result"
    }
   ],
   "source": [
    "data.head(5)"
   ]
  },
  {
   "cell_type": "markdown",
   "id": "47cdffcc",
   "metadata": {},
   "source": [
    "### Split Dataset into Train, Test & Validate"
   ]
  },
  {
   "cell_type": "code",
   "execution_count": 74,
   "id": "2158ddc0",
   "metadata": {},
   "outputs": [],
   "source": [
    "training_features, testing_validation_features, training_labels, testing_validation_labels = train_test_split(data.iloc[:,:-1],\n",
    "                                                                                        data['class'],\n",
    "                                                                                        test_size = 0.30,\n",
    "                                                                                        random_state=94,\n",
    "                                                                                        stratify= data['class'])\n",
    "\n",
    "validation_features, testing_features, validation_labels, testing_labels = train_test_split(testing_validation_features,\n",
    "                                                                                            testing_validation_labels,\n",
    "                                                                                        test_size = 0.40,\n",
    "                                                                                        random_state=94,\n",
    "                                                                                        stratify= testing_validation_labels)"
   ]
  },
  {
   "cell_type": "code",
   "execution_count": 75,
   "id": "ae70eed2",
   "metadata": {},
   "outputs": [],
   "source": [
    "def generate_roc_curve(recall, precision, label):\n",
    "    pyplot.plot(recall, precision, label=label, marker='.')\n",
    "    pyplot.xlabel('Recall') \n",
    "    pyplot.ylabel('Precision')\n",
    "    pyplot.legend()\n",
    "    pyplot.show()"
   ]
  },
  {
   "cell_type": "markdown",
   "id": "09d88898",
   "metadata": {},
   "source": [
    "## Experimentation Lab"
   ]
  },
  {
   "cell_type": "code",
   "execution_count": 113,
   "id": "9d59525b",
   "metadata": {},
   "outputs": [],
   "source": [
    "experiments = {\"experiment_name\": [],\n",
    "               \"best_score\": [],\n",
    "               \"best_hyperparameters\": [],\n",
    "               \"validation_classification_report\": [],\n",
    "               \"validation_f1_score\": [],\n",
    "               \"validation_auc_score\": [],\n",
    "               \"testing_classification_report\": [],\n",
    "               \"testing_f1_score\": [],\n",
    "               \"testing_auc_score\": []}"
   ]
  },
  {
   "cell_type": "markdown",
   "id": "97ad66cb",
   "metadata": {},
   "source": [
    "## Experiment 1 - Logistic Regression"
   ]
  },
  {
   "cell_type": "markdown",
   "id": "b1c7cf03",
   "metadata": {},
   "source": [
    "#### Model Parameter Selection"
   ]
  },
  {
   "cell_type": "code",
   "execution_count": 107,
   "id": "5d207ca4",
   "metadata": {},
   "outputs": [
    {
     "name": "stdout",
     "output_type": "stream",
     "text": [
      "Best score: 0.9741071428571428\n",
      "\n",
      "Best hyperparameters: {'C': 10, 'penalty': 'l2', 'solver': 'liblinear'}\n",
      "\n",
      "Classification report: \n",
      "              precision    recall  f1-score   support\n",
      "\n",
      "         0.0       1.00      0.98      0.99        45\n",
      "         1.0       0.96      1.00      0.98        27\n",
      "\n",
      "    accuracy                           0.99        72\n",
      "   macro avg       0.98      0.99      0.99        72\n",
      "weighted avg       0.99      0.99      0.99        72\n",
      "\n",
      "\n",
      "Confusion matrix: \n",
      "[[44  1]\n",
      " [ 0 27]]\n",
      "\n"
     ]
    },
    {
     "data": {
      "image/png": "[encoded data removed]",
      "text/plain": [
       "<Figure size 432x288 with 1 Axes>"
      ]
     },
     "metadata": {
      "needs_background": "light"
     },
     "output_type": "display_data"
    },
    {
     "name": "stdout",
     "output_type": "stream",
     "text": [
      "F1 Score: 0.9818181818181818\tAUC: 0.9999999999999998\n",
      "\n"
     ]
    }
   ],
   "source": [
    "cv = RepeatedStratifiedKFold(n_splits=8, n_repeats=4, random_state=94)\n",
    "search_param = {'solver': ['newton-cg', 'lbfgs', 'liblinear'],\n",
    "                'penalty': ['none', 'l1', 'l2', 'elasticnet'],\n",
    "                'C': [1e-5, 1e-4, 1e-3, 1e-2, 1e-1, 1, 10, 100]}\n",
    "search = GridSearchCV(LogisticRegression(), search_param, scoring='accuracy', n_jobs=-1, cv=cv)\n",
    "search.fit(training_features, training_labels)\n",
    "\n",
    "print(f'Best score: {search.best_score_}\\n')\n",
    "print(f'Best hyperparameters: {search.best_params_}\\n')\n",
    "\n",
    "predicted_labels = search.predict(validation_features)\n",
    "predicted_probs = search.predict_proba(validation_features)[:, 1]\n",
    "print(f'Classification report: \\n{classification_report(validation_labels, predicted_labels)}\\n')\n",
    "clf_report = classification_report(validation_labels, predicted_labels, output_dict=True)\n",
    "\n",
    "confusion = confusion_matrix(validation_labels, predicted_labels)\n",
    "print(f'Confusion matrix: \\n{confusion}\\n')\n",
    "\n",
    "precision, recall, _ = precision_recall_curve(validation_labels, predicted_probs)\n",
    "generate_roc_curve(recall, precision, \"Logistic\")\n",
    "\n",
    "f1, auc_score = f1_score(validation_labels, predicted_labels), auc(recall, precision)\n",
    "print(f\"F1 Score: {f1}\\tAUC: {auc_score}\\n\")"
   ]
  },
  {
   "cell_type": "code",
   "execution_count": 116,
   "id": "4959ffba",
   "metadata": {},
   "outputs": [],
   "source": [
    "experiments[\"experiment_name\"].append(\"Logistic Regression\")\n",
    "experiments[\"best_score\"].append(search.best_score_)\n",
    "experiments[\"best_hyperparameters\"].append(search.best_params_)\n",
    "experiments[\"validation_classification_report\"].append(clf_report)\n",
    "experiments[\"validation_f1_score\"].append(f1)\n",
    "experiments[\"validation_auc_score\"].append(auc_score)"
   ]
  },
  {
   "cell_type": "markdown",
   "id": "6cd7bf8e",
   "metadata": {},
   "source": [
    "#### Final Model & Feature Importance"
   ]
  },
  {
   "cell_type": "code",
   "execution_count": 77,
   "id": "4e3b4ba5",
   "metadata": {},
   "outputs": [
    {
     "data": {
      "text/plain": [
       "Text(0.5, 0, 'Importance')"
      ]
     },
     "execution_count": 77,
     "metadata": {},
     "output_type": "execute_result"
    },
    {
     "data": {
      "image/png": "[encoded data removed]",
      "text/plain": [
       "<Figure size 792x432 with 1 Axes>"
      ]
     },
     "metadata": {
      "needs_background": "light"
     },
     "output_type": "display_data"
    }
   ],
   "source": [
    "best_model = search.best_estimator_\n",
    "features = pd.DataFrame()\n",
    "features['Features'] = testing_features.columns.values.tolist()\n",
    "features['importance'] = best_model.coef_[0].tolist()\n",
    "features.sort_values(by=['importance'], ascending=True, inplace=True)\n",
    "features['positive'] = features['importance'] > 0\n",
    "features.set_index('Features', inplace=True)\n",
    "features.importance.plot(kind='barh', figsize=(11, 6),color = features.positive.map({True: 'blue', False: 'red'}))\n",
    "pyplot.xlabel('Importance')"
   ]
  },
  {
   "cell_type": "markdown",
   "id": "12ee2a3f",
   "metadata": {},
   "source": [
    "#### Model Performance Test on Unseen Data"
   ]
  },
  {
   "cell_type": "code",
   "execution_count": 109,
   "id": "c9a6ea20",
   "metadata": {},
   "outputs": [
    {
     "name": "stdout",
     "output_type": "stream",
     "text": [
      "Classification report: \n",
      "              precision    recall  f1-score   support\n",
      "\n",
      "         0.0       0.97      1.00      0.98        30\n",
      "         1.0       1.00      0.94      0.97        18\n",
      "\n",
      "    accuracy                           0.98        48\n",
      "   macro avg       0.98      0.97      0.98        48\n",
      "weighted avg       0.98      0.98      0.98        48\n",
      "\n",
      "\n",
      "Confusion matrix: \n",
      "[[30  0]\n",
      " [ 1 17]]\n",
      "\n"
     ]
    },
    {
     "data": {
      "image/png": "[encoded data removed]",
      "text/plain": [
       "<Figure size 432x288 with 1 Axes>"
      ]
     },
     "metadata": {
      "needs_background": "light"
     },
     "output_type": "display_data"
    },
    {
     "name": "stdout",
     "output_type": "stream",
     "text": [
      "F1 Score: 0.9714285714285714\tAUC: 0.9867424242424243\n",
      "\n"
     ]
    }
   ],
   "source": [
    "predicted_labels = best_model.predict(testing_features)\n",
    "predicted_probs = best_model.predict_proba(testing_features)[:, 1]\n",
    "print(f'Classification report: \\n{classification_report(testing_labels, predicted_labels)}\\n')\n",
    "clf_report = classification_report(testing_labels, predicted_labels, output_dict=True)\n",
    "\n",
    "confusion = confusion_matrix(testing_labels, predicted_labels)\n",
    "print(f'Confusion matrix: \\n{confusion}\\n')\n",
    "\n",
    "precision, recall, _ = precision_recall_curve(testing_labels, predicted_probs)\n",
    "generate_roc_curve(recall, precision, \"Logistic\")\n",
    "\n",
    "f1, auc_score = f1_score(testing_labels, predicted_labels), auc(recall, precision)\n",
    "print(f\"F1 Score: {f1}\\tAUC: {auc_score}\\n\")"
   ]
  },
  {
   "cell_type": "code",
   "execution_count": 114,
   "id": "a0799d5d",
   "metadata": {},
   "outputs": [],
   "source": [
    "experiments[\"testing_classification_report\"].append(clf_report)\n",
    "experiments[\"testing_f1_score\"].append(f1)\n",
    "experiments[\"testing_auc_score\"].append(auc_score)"
   ]
  },
  {
   "cell_type": "markdown",
   "id": "d67433e9",
   "metadata": {},
   "source": [
    "## Experiment 2 - Support Vector Machine"
   ]
  },
  {
   "cell_type": "markdown",
   "id": "0b51ba51",
   "metadata": {},
   "source": [
    "#### Model Parameter Selection"
   ]
  },
  {
   "cell_type": "code",
   "execution_count": 79,
   "id": "a9776a28",
   "metadata": {},
   "outputs": [
    {
     "name": "stdout",
     "output_type": "stream",
     "text": [
      "Best score: 0.9741071428571428\n",
      "\n",
      "Best hyperparameters: {'C': 10, 'gamma': 0.1, 'kernel': 'rbf'}\n",
      "\n",
      "Classification report: \n",
      "              precision    recall  f1-score   support\n",
      "\n",
      "         0.0       1.00      0.96      0.98        45\n",
      "         1.0       0.93      1.00      0.96        27\n",
      "\n",
      "    accuracy                           0.97        72\n",
      "   macro avg       0.97      0.98      0.97        72\n",
      "weighted avg       0.97      0.97      0.97        72\n",
      "\n",
      "\n",
      "Confusion matrix: \n",
      "[[43  2]\n",
      " [ 0 27]]\n",
      "\n"
     ]
    },
    {
     "data": {
      "image/png": "[encoded data removed]",
      "text/plain": [
       "<Figure size 432x288 with 1 Axes>"
      ]
     },
     "metadata": {
      "needs_background": "light"
     },
     "output_type": "display_data"
    },
    {
     "name": "stdout",
     "output_type": "stream",
     "text": [
      "F1 Score: 0.9642857142857143\tAUC: 0.9974001094690748\n",
      "\n"
     ]
    }
   ],
   "source": [
    "cv = RepeatedStratifiedKFold(n_splits=8, n_repeats=4, random_state=94)\n",
    "\n",
    "search_param = {'C': [1e-5, 1e-4, 1e-3, 1e-2, 1e-1, 1, 10, 100],\n",
    "              'gamma': [1, 0.1, 0.01, 0.001, 0.0001],\n",
    "              'kernel': ['rbf', 'linear']}\n",
    "\n",
    "search = GridSearchCV(SVC(probability=True), search_param, scoring='accuracy', n_jobs=-1, cv=cv, refit = True)\n",
    "search.fit(training_features, training_labels)\n",
    "\n",
    "print(f'Best score: {search.best_score_}\\n')\n",
    "print(f'Best hyperparameters: {search.best_params_}\\n')\n",
    "\n",
    "predicted_labels = search.predict(validation_features)\n",
    "predicted_probs = search.predict_proba(validation_features)[:, 1]\n",
    "print(f'Classification report: \\n{classification_report(validation_labels, predicted_labels)}\\n')\n",
    "clf_report = classification_report(validation_labels, predicted_labels, output_dict=True)\n",
    "\n",
    "confusion = confusion_matrix(validation_labels, predicted_labels)\n",
    "print(f'Confusion matrix: \\n{confusion}\\n')\n",
    "\n",
    "precision, recall, _ = precision_recall_curve(validation_labels, predicted_probs)\n",
    "generate_roc_curve(recall, precision, \"SVC\")\n",
    "\n",
    "f1, auc_score = f1_score(validation_labels, predicted_labels), auc(recall, precision)\n",
    "print(f\"F1 Score: {f1}\\tAUC: {auc_score}\\n\")"
   ]
  },
  {
   "cell_type": "code",
   "execution_count": 118,
   "id": "db1b4705",
   "metadata": {},
   "outputs": [],
   "source": [
    "experiments[\"experiment_name\"].append(\"Support Vector Machine\")\n",
    "experiments[\"best_score\"].append(search.best_score_)\n",
    "experiments[\"best_hyperparameters\"].append(search.best_params_)\n",
    "experiments[\"validation_classification_report\"].append(clf_report)\n",
    "experiments[\"validation_f1_score\"].append(f1)\n",
    "experiments[\"validation_auc_score\"].append(auc_score)"
   ]
  },
  {
   "cell_type": "markdown",
   "id": "98ba03ee",
   "metadata": {},
   "source": [
    "#### Final Model & Feature Importance"
   ]
  },
  {
   "cell_type": "code",
   "execution_count": 80,
   "id": "42f57a70",
   "metadata": {},
   "outputs": [
    {
     "data": {
      "text/plain": [
       "Text(0.5, 0, 'Importance')"
      ]
     },
     "execution_count": 80,
     "metadata": {},
     "output_type": "execute_result"
    },
    {
     "data": {
      "image/png": "[encoded data removed]",
      "text/plain": [
       "<Figure size 792x432 with 1 Axes>"
      ]
     },
     "metadata": {
      "needs_background": "light"
     },
     "output_type": "display_data"
    }
   ],
   "source": [
    "best_model = search.best_estimator_\n",
    "features = pd.DataFrame()\n",
    "features['Features'] = validation_features.columns.values.tolist()\n",
    "perm_importance = permutation_importance(best_model, validation_features, validation_labels)\n",
    "sorted_idx = perm_importance.importances_mean.argsort()\n",
    "features['importance'] = perm_importance.importances_mean[sorted_idx]\n",
    "features.sort_values(by=['importance'], ascending=True, inplace=True)\n",
    "features['positive'] = features['importance'] > 0\n",
    "features.set_index('Features', inplace=True)\n",
    "features.importance.plot(kind='barh', figsize=(11, 6),color = features.positive.map({True: 'blue', False: 'red'}))\n",
    "pyplot.xlabel('Importance')"
   ]
  },
  {
   "cell_type": "markdown",
   "id": "e0a3df4d",
   "metadata": {},
   "source": [
    "#### Model Performance Test on Unseen Data"
   ]
  },
  {
   "cell_type": "code",
   "execution_count": 119,
   "id": "5f28bcf4",
   "metadata": {},
   "outputs": [
    {
     "name": "stdout",
     "output_type": "stream",
     "text": [
      "Classification report: \n",
      "              precision    recall  f1-score   support\n",
      "\n",
      "         0.0       0.97      1.00      0.98        30\n",
      "         1.0       1.00      0.94      0.97        18\n",
      "\n",
      "    accuracy                           0.98        48\n",
      "   macro avg       0.98      0.97      0.98        48\n",
      "weighted avg       0.98      0.98      0.98        48\n",
      "\n",
      "\n",
      "Confusion matrix: \n",
      "[[30  0]\n",
      " [ 1 17]]\n",
      "\n"
     ]
    },
    {
     "data": {
      "image/png": "[encoded data removed]",
      "text/plain": [
       "<Figure size 432x288 with 1 Axes>"
      ]
     },
     "metadata": {
      "needs_background": "light"
     },
     "output_type": "display_data"
    },
    {
     "name": "stdout",
     "output_type": "stream",
     "text": [
      "F1 Score: 0.9714285714285714\tAUC: 0.9867424242424243\n",
      "\n"
     ]
    }
   ],
   "source": [
    "predicted_labels = best_model.predict(testing_features)\n",
    "predicted_probs = best_model.predict_proba(testing_features)[:, 1]\n",
    "print(f'Classification report: \\n{classification_report(testing_labels, predicted_labels)}\\n')\n",
    "clf_report = classification_report(testing_labels, predicted_labels, output_dict=True)\n",
    "\n",
    "confusion = confusion_matrix(testing_labels, predicted_labels)\n",
    "print(f'Confusion matrix: \\n{confusion}\\n')\n",
    "\n",
    "precision, recall, _ = precision_recall_curve(testing_labels, predicted_probs)\n",
    "generate_roc_curve(recall, precision, \"Logistic\")\n",
    "\n",
    "f1, auc_score = f1_score(testing_labels, predicted_labels), auc(recall, precision)\n",
    "print(f\"F1 Score: {f1}\\tAUC: {auc_score}\\n\")"
   ]
  },
  {
   "cell_type": "code",
   "execution_count": 120,
   "id": "515a9cbf",
   "metadata": {},
   "outputs": [],
   "source": [
    "experiments[\"testing_classification_report\"].append(clf_report)\n",
    "experiments[\"testing_f1_score\"].append(f1)\n",
    "experiments[\"testing_auc_score\"].append(auc_score)"
   ]
  },
  {
   "cell_type": "markdown",
   "id": "5cc65796",
   "metadata": {},
   "source": [
    "## Experiment 3 - Decision Tree"
   ]
  },
  {
   "cell_type": "markdown",
   "id": "a4d06d30",
   "metadata": {},
   "source": [
    "#### Model Parameter Selection"
   ]
  },
  {
   "cell_type": "code",
   "execution_count": 121,
   "id": "8d9c73cc",
   "metadata": {},
   "outputs": [
    {
     "name": "stdout",
     "output_type": "stream",
     "text": [
      "Best score: 0.9696428571428571\n",
      "\n",
      "Best hyperparameters: {'max_leaf_nodes': 67, 'min_samples_split': 2}\n",
      "\n",
      "Classification report: \n",
      "              precision    recall  f1-score   support\n",
      "\n",
      "         0.0       1.00      0.98      0.99        45\n",
      "         1.0       0.96      1.00      0.98        27\n",
      "\n",
      "    accuracy                           0.99        72\n",
      "   macro avg       0.98      0.99      0.99        72\n",
      "weighted avg       0.99      0.99      0.99        72\n",
      "\n",
      "\n",
      "Confusion matrix: \n",
      "[[44  1]\n",
      " [ 0 27]]\n",
      "\n"
     ]
    },
    {
     "data": {
      "image/png": "[encoded data removed]",
      "text/plain": [
       "<Figure size 432x288 with 1 Axes>"
      ]
     },
     "metadata": {
      "needs_background": "light"
     },
     "output_type": "display_data"
    },
    {
     "name": "stdout",
     "output_type": "stream",
     "text": [
      "F1 Score: 0.9818181818181818\tAUC: 0.9821428571428572\n",
      "\n"
     ]
    }
   ],
   "source": [
    "cv = RepeatedStratifiedKFold(n_splits=8, n_repeats=4, random_state=94)\n",
    "\n",
    "search_param = {'max_leaf_nodes': list(range(2, 100)), 'min_samples_split': [2, 3, 4]}\n",
    "\n",
    "search = GridSearchCV(DecisionTreeClassifier(), search_param, scoring='accuracy', n_jobs=-1, cv=cv, refit = True)\n",
    "search.fit(training_features, training_labels)\n",
    "\n",
    "print(f'Best score: {search.best_score_}\\n')\n",
    "print(f'Best hyperparameters: {search.best_params_}\\n')\n",
    "\n",
    "predicted_labels = search.predict(validation_features)\n",
    "predicted_probs = search.predict_proba(validation_features)[:, 1]\n",
    "print(f'Classification report: \\n{classification_report(validation_labels, predicted_labels)}\\n')\n",
    "clf_report = classification_report(validation_labels, predicted_labels, output_dict=True)\n",
    "\n",
    "confusion = confusion_matrix(validation_labels, predicted_labels)\n",
    "print(f'Confusion matrix: \\n{confusion}\\n')\n",
    "\n",
    "precision, recall, _ = precision_recall_curve(validation_labels, predicted_probs)\n",
    "generate_roc_curve(recall, precision, \"Decision Tree\")\n",
    "\n",
    "f1, auc_score = f1_score(validation_labels, predicted_labels), auc(recall, precision)\n",
    "print(f\"F1 Score: {f1}\\tAUC: {auc_score}\\n\")"
   ]
  },
  {
   "cell_type": "code",
   "execution_count": 122,
   "id": "efa9e856",
   "metadata": {},
   "outputs": [],
   "source": [
    "experiments[\"experiment_name\"].append(\"Decision Tree\")\n",
    "experiments[\"best_score\"].append(search.best_score_)\n",
    "experiments[\"best_hyperparameters\"].append(search.best_params_)\n",
    "experiments[\"validation_classification_report\"].append(clf_report)\n",
    "experiments[\"validation_f1_score\"].append(f1)\n",
    "experiments[\"validation_auc_score\"].append(auc_score)"
   ]
  },
  {
   "cell_type": "markdown",
   "id": "3c20e248",
   "metadata": {},
   "source": [
    "#### Final Model & Feature Importance"
   ]
  },
  {
   "cell_type": "code",
   "execution_count": 92,
   "id": "93fb0973",
   "metadata": {},
   "outputs": [
    {
     "data": {
      "text/plain": [
       "Text(0.5, 0, 'Importance')"
      ]
     },
     "execution_count": 92,
     "metadata": {},
     "output_type": "execute_result"
    },
    {
     "data": {
      "image/png": "[encoded data removed]",
      "text/plain": [
       "<Figure size 792x432 with 1 Axes>"
      ]
     },
     "metadata": {
      "needs_background": "light"
     },
     "output_type": "display_data"
    }
   ],
   "source": [
    "best_model = search.best_estimator_\n",
    "features = pd.DataFrame()\n",
    "features['Features'] = validation_features.columns.values.tolist()\n",
    "perm_importance = permutation_importance(best_model, validation_features, validation_labels)\n",
    "sorted_idx = perm_importance.importances_mean.argsort()\n",
    "features['importance'] = perm_importance.importances_mean[sorted_idx]\n",
    "features.sort_values(by=['importance'], ascending=True, inplace=True)\n",
    "features['positive'] = features['importance'] > 0\n",
    "features.set_index('Features', inplace=True)\n",
    "features.importance.plot(kind='barh', figsize=(11, 6),color = features.positive.map({True: 'blue', False: 'red'}))\n",
    "pyplot.xlabel('Importance')"
   ]
  },
  {
   "cell_type": "markdown",
   "id": "2390d3b7",
   "metadata": {},
   "source": [
    "#### Model Performance Test on Unseen Data"
   ]
  },
  {
   "cell_type": "code",
   "execution_count": 123,
   "id": "900250b9",
   "metadata": {},
   "outputs": [
    {
     "name": "stdout",
     "output_type": "stream",
     "text": [
      "Classification report: \n",
      "              precision    recall  f1-score   support\n",
      "\n",
      "         0.0       0.97      1.00      0.98        30\n",
      "         1.0       1.00      0.94      0.97        18\n",
      "\n",
      "    accuracy                           0.98        48\n",
      "   macro avg       0.98      0.97      0.98        48\n",
      "weighted avg       0.98      0.98      0.98        48\n",
      "\n",
      "\n",
      "Confusion matrix: \n",
      "[[30  0]\n",
      " [ 1 17]]\n",
      "\n"
     ]
    },
    {
     "data": {
      "image/png": "[encoded data removed]",
      "text/plain": [
       "<Figure size 432x288 with 1 Axes>"
      ]
     },
     "metadata": {
      "needs_background": "light"
     },
     "output_type": "display_data"
    },
    {
     "name": "stdout",
     "output_type": "stream",
     "text": [
      "F1 Score: 0.9714285714285714\tAUC: 0.9867424242424243\n",
      "\n"
     ]
    }
   ],
   "source": [
    "predicted_labels = best_model.predict(testing_features)\n",
    "predicted_probs = best_model.predict_proba(testing_features)[:, 1]\n",
    "print(f'Classification report: \\n{classification_report(testing_labels, predicted_labels)}\\n')\n",
    "clf_report = classification_report(testing_labels, predicted_labels, output_dict=True)\n",
    "\n",
    "confusion = confusion_matrix(testing_labels, predicted_labels)\n",
    "print(f'Confusion matrix: \\n{confusion}\\n')\n",
    "\n",
    "precision, recall, _ = precision_recall_curve(testing_labels, predicted_probs)\n",
    "generate_roc_curve(recall, precision, \"Decision Tree\")\n",
    "\n",
    "f1, auc_score = f1_score(testing_labels, predicted_labels), auc(recall, precision)\n",
    "print(f\"F1 Score: {f1}\\tAUC: {auc_score}\\n\")"
   ]
  },
  {
   "cell_type": "code",
   "execution_count": 124,
   "id": "95604d36",
   "metadata": {},
   "outputs": [],
   "source": [
    "experiments[\"testing_classification_report\"].append(clf_report)\n",
    "experiments[\"testing_f1_score\"].append(f1)\n",
    "experiments[\"testing_auc_score\"].append(auc_score)"
   ]
  },
  {
   "cell_type": "markdown",
   "id": "767cedac",
   "metadata": {},
   "source": [
    "## Experiment 4 - Random Forest"
   ]
  },
  {
   "cell_type": "markdown",
   "id": "7e046938",
   "metadata": {},
   "source": [
    "#### Model Parameter Selection"
   ]
  },
  {
   "cell_type": "code",
   "execution_count": 125,
   "id": "3d0f515f",
   "metadata": {},
   "outputs": [
    {
     "name": "stdout",
     "output_type": "stream",
     "text": [
      "Best score: 0.9830357142857143\n",
      "\n",
      "Best hyperparameters: {'criterion': 'gini', 'max_depth': 8, 'max_features': 'sqrt', 'n_estimators': 29}\n",
      "\n",
      "Classification report: \n",
      "              precision    recall  f1-score   support\n",
      "\n",
      "         0.0       1.00      0.98      0.99        45\n",
      "         1.0       0.96      1.00      0.98        27\n",
      "\n",
      "    accuracy                           0.99        72\n",
      "   macro avg       0.98      0.99      0.99        72\n",
      "weighted avg       0.99      0.99      0.99        72\n",
      "\n",
      "\n",
      "Confusion matrix: \n",
      "[[44  1]\n",
      " [ 0 27]]\n",
      "\n"
     ]
    },
    {
     "data": {
      "image/png": "[encoded data removed]",
      "text/plain": [
       "<Figure size 432x288 with 1 Axes>"
      ]
     },
     "metadata": {
      "needs_background": "light"
     },
     "output_type": "display_data"
    },
    {
     "name": "stdout",
     "output_type": "stream",
     "text": [
      "F1 Score: 0.9818181818181818\tAUC: 0.9986527532823829\n",
      "\n"
     ]
    }
   ],
   "source": [
    "cv = RepeatedStratifiedKFold(n_splits=8, n_repeats=4, random_state=94)\n",
    "\n",
    "search_param = { \n",
    "    'n_estimators': list(range(8, 36)),\n",
    "    'max_features': ['auto', 'sqrt', 'log2'],\n",
    "    'max_depth' : list(range(2, 9)),\n",
    "    'criterion' :['gini', 'entropy']\n",
    "}\n",
    "\n",
    "search = GridSearchCV(RandomForestClassifier(), search_param, scoring='accuracy', n_jobs=-1, cv=cv, refit = True)\n",
    "search.fit(training_features, training_labels)\n",
    "\n",
    "print(f'Best score: {search.best_score_}\\n')\n",
    "print(f'Best hyperparameters: {search.best_params_}\\n')\n",
    "\n",
    "predicted_labels = search.predict(validation_features)\n",
    "predicted_probs = search.predict_proba(validation_features)[:, 1]\n",
    "print(f'Classification report: \\n{classification_report(validation_labels, predicted_labels)}\\n')\n",
    "clf_report = classification_report(validation_labels, predicted_labels, output_dict=True)\n",
    "\n",
    "confusion = confusion_matrix(validation_labels, predicted_labels)\n",
    "print(f'Confusion matrix: \\n{confusion}\\n')\n",
    "\n",
    "precision, recall, _ = precision_recall_curve(validation_labels, predicted_probs)\n",
    "generate_roc_curve(recall, precision, \"Decision Tree\")\n",
    "\n",
    "f1, auc_score = f1_score(validation_labels, predicted_labels), auc(recall, precision)\n",
    "print(f\"F1 Score: {f1}\\tAUC: {auc_score}\\n\")"
   ]
  },
  {
   "cell_type": "code",
   "execution_count": 126,
   "id": "c888cb70",
   "metadata": {},
   "outputs": [],
   "source": [
    "experiments[\"experiment_name\"].append(\"Random Forest\")\n",
    "experiments[\"best_score\"].append(search.best_score_)\n",
    "experiments[\"best_hyperparameters\"].append(search.best_params_)\n",
    "experiments[\"validation_classification_report\"].append(clf_report)\n",
    "experiments[\"validation_f1_score\"].append(f1)\n",
    "experiments[\"validation_auc_score\"].append(auc_score)"
   ]
  },
  {
   "cell_type": "markdown",
   "id": "5857d936",
   "metadata": {},
   "source": [
    "#### Final Model & Feature Importance"
   ]
  },
  {
   "cell_type": "code",
   "execution_count": 96,
   "id": "61a005a1",
   "metadata": {},
   "outputs": [
    {
     "data": {
      "text/plain": [
       "Text(0.5, 0, 'Importance')"
      ]
     },
     "execution_count": 96,
     "metadata": {},
     "output_type": "execute_result"
    },
    {
     "data": {
      "image/png": "[encoded data removed]",
      "text/plain": [
       "<Figure size 792x432 with 1 Axes>"
      ]
     },
     "metadata": {
      "needs_background": "light"
     },
     "output_type": "display_data"
    }
   ],
   "source": [
    "best_model = search.best_estimator_\n",
    "features = pd.DataFrame()\n",
    "features['Features'] = validation_features.columns.values.tolist()\n",
    "perm_importance = permutation_importance(best_model, validation_features, validation_labels)\n",
    "sorted_idx = perm_importance.importances_mean.argsort()\n",
    "features['importance'] = perm_importance.importances_mean[sorted_idx]\n",
    "features.sort_values(by=['importance'], ascending=True, inplace=True)\n",
    "features['positive'] = features['importance'] > 0\n",
    "features.set_index('Features', inplace=True)\n",
    "features.importance.plot(kind='barh', figsize=(11, 6),color = features.positive.map({True: 'blue', False: 'red'}))\n",
    "pyplot.xlabel('Importance')"
   ]
  },
  {
   "cell_type": "markdown",
   "id": "a655a51c",
   "metadata": {},
   "source": [
    "#### Model Performance Test on Unseen Data"
   ]
  },
  {
   "cell_type": "code",
   "execution_count": 127,
   "id": "f2c95c0a",
   "metadata": {},
   "outputs": [
    {
     "name": "stdout",
     "output_type": "stream",
     "text": [
      "Classification report: \n",
      "              precision    recall  f1-score   support\n",
      "\n",
      "         0.0       0.97      1.00      0.98        30\n",
      "         1.0       1.00      0.94      0.97        18\n",
      "\n",
      "    accuracy                           0.98        48\n",
      "   macro avg       0.98      0.97      0.98        48\n",
      "weighted avg       0.98      0.98      0.98        48\n",
      "\n",
      "\n",
      "Confusion matrix: \n",
      "[[30  0]\n",
      " [ 1 17]]\n",
      "\n"
     ]
    },
    {
     "data": {
      "image/png": "[encoded data removed]",
      "text/plain": [
       "<Figure size 432x288 with 1 Axes>"
      ]
     },
     "metadata": {
      "needs_background": "light"
     },
     "output_type": "display_data"
    },
    {
     "name": "stdout",
     "output_type": "stream",
     "text": [
      "F1 Score: 0.9714285714285714\tAUC: 0.9867424242424243\n",
      "\n"
     ]
    }
   ],
   "source": [
    "predicted_labels = best_model.predict(testing_features)\n",
    "predicted_probs = best_model.predict_proba(testing_features)[:, 1]\n",
    "print(f'Classification report: \\n{classification_report(testing_labels, predicted_labels)}\\n')\n",
    "clf_report = classification_report(testing_labels, predicted_labels, output_dict=True)\n",
    "\n",
    "confusion = confusion_matrix(testing_labels, predicted_labels)\n",
    "print(f'Confusion matrix: \\n{confusion}\\n')\n",
    "\n",
    "precision, recall, _ = precision_recall_curve(testing_labels, predicted_probs)\n",
    "generate_roc_curve(recall, precision, \"Random Forest\")\n",
    "\n",
    "f1, auc_score = f1_score(testing_labels, predicted_labels), auc(recall, precision)\n",
    "print(f\"F1 Score: {f1}\\tAUC: {auc_score}\\n\")"
   ]
  },
  {
   "cell_type": "code",
   "execution_count": 128,
   "id": "e687405f",
   "metadata": {},
   "outputs": [],
   "source": [
    "experiments[\"testing_classification_report\"].append(clf_report)\n",
    "experiments[\"testing_f1_score\"].append(f1)\n",
    "experiments[\"testing_auc_score\"].append(auc_score)"
   ]
  },
  {
   "cell_type": "markdown",
   "id": "8f39a409",
   "metadata": {},
   "source": [
    "## Lab Analysis"
   ]
  },
  {
   "cell_type": "code",
   "execution_count": 129,
   "id": "cf4a4a46",
   "metadata": {},
   "outputs": [],
   "source": [
    "experiments_df = pd.DataFrame(experiments)"
   ]
  },
  {
   "cell_type": "code",
   "execution_count": 131,
   "id": "78602484",
   "metadata": {},
   "outputs": [
    {
     "data": {
      "text/html": [
       "<div>\n",
       "<style scoped>\n",
       "    .dataframe tbody tr th:only-of-type {\n",
       "        vertical-align: middle;\n",
       "    }\n",
       "\n",
       "    .dataframe tbody tr th {\n",
       "        vertical-align: top;\n",
       "    }\n",
       "\n",
       "    .dataframe thead th {\n",
       "        text-align: right;\n",
       "    }\n",
       "</style>\n",
       "<table border=\"1\" class=\"dataframe\">\n",
       "  <thead>\n",
       "    <tr style=\"text-align: right;\">\n",
       "      <th></th>\n",
       "      <th>experiment_name</th>\n",
       "      <th>best_score</th>\n",
       "      <th>best_hyperparameters</th>\n",
       "      <th>validation_classification_report</th>\n",
       "      <th>validation_f1_score</th>\n",
       "      <th>validation_auc_score</th>\n",
       "      <th>testing_classification_report</th>\n",
       "      <th>testing_f1_score</th>\n",
       "      <th>testing_auc_score</th>\n",
       "    </tr>\n",
       "  </thead>\n",
       "  <tbody>\n",
       "    <tr>\n",
       "      <th>0</th>\n",
       "      <td>Logistic Regression</td>\n",
       "      <td>0.974107</td>\n",
       "      <td>{'C': 10, 'penalty': 'l2', 'solver': 'liblinear'}</td>\n",
       "      <td>{'0.0': {'precision': 0.967741935483871, 'reca...</td>\n",
       "      <td>0.971429</td>\n",
       "      <td>0.986742</td>\n",
       "      <td>{'0.0': {'precision': 0.967741935483871, 'reca...</td>\n",
       "      <td>0.971429</td>\n",
       "      <td>0.986742</td>\n",
       "    </tr>\n",
       "    <tr>\n",
       "      <th>1</th>\n",
       "      <td>Support Vector Machine</td>\n",
       "      <td>0.974107</td>\n",
       "      <td>{'C': 10, 'penalty': 'l2', 'solver': 'liblinear'}</td>\n",
       "      <td>{'0.0': {'precision': 0.967741935483871, 'reca...</td>\n",
       "      <td>0.971429</td>\n",
       "      <td>0.986742</td>\n",
       "      <td>{'0.0': {'precision': 0.967741935483871, 'reca...</td>\n",
       "      <td>0.971429</td>\n",
       "      <td>0.986742</td>\n",
       "    </tr>\n",
       "    <tr>\n",
       "      <th>2</th>\n",
       "      <td>Decision Tree</td>\n",
       "      <td>0.969643</td>\n",
       "      <td>{'max_leaf_nodes': 67, 'min_samples_split': 2}</td>\n",
       "      <td>{'0.0': {'precision': 1.0, 'recall': 0.9777777...</td>\n",
       "      <td>0.981818</td>\n",
       "      <td>0.982143</td>\n",
       "      <td>{'0.0': {'precision': 0.967741935483871, 'reca...</td>\n",
       "      <td>0.971429</td>\n",
       "      <td>0.986742</td>\n",
       "    </tr>\n",
       "    <tr>\n",
       "      <th>3</th>\n",
       "      <td>Random Forest</td>\n",
       "      <td>0.983036</td>\n",
       "      <td>{'criterion': 'gini', 'max_depth': 8, 'max_fea...</td>\n",
       "      <td>{'0.0': {'precision': 1.0, 'recall': 0.9777777...</td>\n",
       "      <td>0.981818</td>\n",
       "      <td>0.998653</td>\n",
       "      <td>{'0.0': {'precision': 0.967741935483871, 'reca...</td>\n",
       "      <td>0.971429</td>\n",
       "      <td>0.986742</td>\n",
       "    </tr>\n",
       "  </tbody>\n",
       "</table>\n",
       "</div>"
      ],
      "text/plain": [
       "          experiment_name  best_score  \\\n",
       "0     Logistic Regression    0.974107   \n",
       "1  Support Vector Machine    0.974107   \n",
       "2           Decision Tree    0.969643   \n",
       "3           Random Forest    0.983036   \n",
       "\n",
       "                                best_hyperparameters  \\\n",
       "0  {'C': 10, 'penalty': 'l2', 'solver': 'liblinear'}   \n",
       "1  {'C': 10, 'penalty': 'l2', 'solver': 'liblinear'}   \n",
       "2     {'max_leaf_nodes': 67, 'min_samples_split': 2}   \n",
       "3  {'criterion': 'gini', 'max_depth': 8, 'max_fea...   \n",
       "\n",
       "                    validation_classification_report  validation_f1_score  \\\n",
       "0  {'0.0': {'precision': 0.967741935483871, 'reca...             0.971429   \n",
       "1  {'0.0': {'precision': 0.967741935483871, 'reca...             0.971429   \n",
       "2  {'0.0': {'precision': 1.0, 'recall': 0.9777777...             0.981818   \n",
       "3  {'0.0': {'precision': 1.0, 'recall': 0.9777777...             0.981818   \n",
       "\n",
       "   validation_auc_score                      testing_classification_report  \\\n",
       "0              0.986742  {'0.0': {'precision': 0.967741935483871, 'reca...   \n",
       "1              0.986742  {'0.0': {'precision': 0.967741935483871, 'reca...   \n",
       "2              0.982143  {'0.0': {'precision': 0.967741935483871, 'reca...   \n",
       "3              0.998653  {'0.0': {'precision': 0.967741935483871, 'reca...   \n",
       "\n",
       "   testing_f1_score  testing_auc_score  \n",
       "0          0.971429           0.986742  \n",
       "1          0.971429           0.986742  \n",
       "2          0.971429           0.986742  \n",
       "3          0.971429           0.986742  "
      ]
     },
     "execution_count": 131,
     "metadata": {},
     "output_type": "execute_result"
    }
   ],
   "source": [
    "experiments_df"
   ]
  },
  {
   "cell_type": "code",
   "execution_count": 133,
   "id": "13fe9b01",
   "metadata": {},
   "outputs": [],
   "source": [
    "experiments_df.to_csv(\"./../data/output/Lab_Experiments_Data.csv\")"
   ]
  },
  {
   "cell_type": "code",
   "execution_count": null,
   "id": "127b2785",
   "metadata": {},
   "outputs": [],
   "source": []
  }
 ],
 "metadata": {
  "kernelspec": {
   "display_name": "Python 3 (ipykernel)",
   "language": "python",
   "name": "python3"
  },
  "language_info": {
   "codemirror_mode": {
    "name": "ipython",
    "version": 3
   },
   "file_extension": ".py",
   "mimetype": "text/x-python",
   "name": "python",
   "nbconvert_exporter": "python",
   "pygments_lexer": "ipython3",
   "version": "3.9.7"
  }
 },
 "nbformat": 4,
 "nbformat_minor": 5
}
